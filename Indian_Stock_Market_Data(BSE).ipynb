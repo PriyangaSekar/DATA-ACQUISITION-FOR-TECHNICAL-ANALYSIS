{
  "nbformat": 4,
  "nbformat_minor": 0,
  "metadata": {
    "colab": {
      "provenance": []
    },
    "kernelspec": {
      "name": "python3",
      "display_name": "Python 3"
    },
    "language_info": {
      "name": "python"
    }
  },
  "cells": [
    {
      "cell_type": "code",
      "execution_count": null,
      "metadata": {
        "colab": {
          "base_uri": "https://localhost:8080/"
        },
        "id": "w1WEX6pC2bVX",
        "outputId": "8bca6b9d-a380-4e64-edd0-73082d81c057"
      },
      "outputs": [
        {
          "output_type": "stream",
          "name": "stdout",
          "text": [
            "Looking in indexes: https://pypi.org/simple, https://us-python.pkg.dev/colab-wheels/public/simple/\n",
            "Collecting bsedata\n",
            "  Downloading bsedata-0.5.1-py3-none-any.whl (15 kB)\n",
            "Requirement already satisfied: beautifulsoup4 in /usr/local/lib/python3.8/dist-packages (from bsedata) (4.6.3)\n",
            "Requirement already satisfied: lxml in /usr/local/lib/python3.8/dist-packages (from bsedata) (4.9.2)\n",
            "Requirement already satisfied: requests in /usr/local/lib/python3.8/dist-packages (from bsedata) (2.25.1)\n",
            "Requirement already satisfied: certifi>=2017.4.17 in /usr/local/lib/python3.8/dist-packages (from requests->bsedata) (2022.12.7)\n",
            "Requirement already satisfied: chardet<5,>=3.0.2 in /usr/local/lib/python3.8/dist-packages (from requests->bsedata) (4.0.0)\n",
            "Requirement already satisfied: idna<3,>=2.5 in /usr/local/lib/python3.8/dist-packages (from requests->bsedata) (2.10)\n",
            "Requirement already satisfied: urllib3<1.27,>=1.21.1 in /usr/local/lib/python3.8/dist-packages (from requests->bsedata) (1.24.3)\n",
            "Installing collected packages: bsedata\n",
            "Successfully installed bsedata-0.5.1\n"
          ]
        }
      ],
      "source": [
        "pip install bsedata"
      ]
    },
    {
      "cell_type": "code",
      "source": [
        "from bsedata.bse import BSE\n",
        "b = BSE()\n",
        "print(b)"
      ],
      "metadata": {
        "colab": {
          "base_uri": "https://localhost:8080/"
        },
        "id": "pwMQBFl4203I",
        "outputId": "1ec1f870-8401-4d60-9f29-7b773b4d375c"
      },
      "execution_count": null,
      "outputs": [
        {
          "output_type": "stream",
          "name": "stdout",
          "text": [
            "Driver Class for Bombay Stock Exchange (BSE)\n"
          ]
        }
      ]
    },
    {
      "cell_type": "code",
      "source": [
        "q = b.getQuote('534976')\n",
        "print(q)"
      ],
      "metadata": {
        "colab": {
          "base_uri": "https://localhost:8080/"
        },
        "id": "2r9MzC365DCv",
        "outputId": "46ba11a1-5661-4a04-d02e-c435a2371b7b"
      },
      "execution_count": null,
      "outputs": [
        {
          "output_type": "stream",
          "name": "stdout",
          "text": [
            "{'companyName': 'V-MART RETAIL LTD.', 'currentValue': '2429.25', 'change': '-10.00', 'pChange': '-0.41', 'updatedOn': '16 Feb 23 | 04:00 PM', 'priceBand': '', 'securityID': 'VMART', 'scripCode': '534976', 'group': 'A  / S&P BSE 500', 'faceValue': '10.00', 'industry': 'Consumer Services', 'previousClose': '2439.25', 'previousOpen': '2446.20', 'dayHigh': '2463.15', 'dayLow': '2421.60', '52weekHigh': '4026.95', '52weekLow': '2406.00', 'weightedAvgPrice': '2442.12', 'totalTradedValue': '0.21 Cr.', 'totalTradedQuantity': '0.01 Lakh', '2WeekAvgQuantity': '0.01 Lakh', 'marketCapFull': '4,803.23 Cr.', 'marketCapFreeFloat': '2,593.74 Cr.', 'upperPriceBand': '', 'lowerPriceBand': '', 'buy': {'1': {'quantity': '-', 'price': '0.00'}, '2': {'quantity': '-', 'price': '0.00'}, '3': {'quantity': '-', 'price': '0.00'}, '4': {'quantity': '-', 'price': '0.00'}, '5': {'quantity': '-', 'price': '0.00'}}, 'sell': {'1': {'price': '0.00', 'quantity': '-'}, '2': {'price': '0.00', 'quantity': '-'}, '3': {'price': '0.00', 'quantity': '-'}, '4': {'price': '0.00', 'quantity': '-'}, '5': {'price': '0.00', 'quantity': '-'}}}\n"
          ]
        }
      ]
    },
    {
      "cell_type": "code",
      "source": [
        "\n",
        "codelist = [\"500116\", \"512573\"]\n",
        "\n",
        "for code in codelist:\n",
        "    quote = b.getQuote(code)\n",
        "    print(quote[\"companyName\"])\n",
        "    print(quote[\"currentValue\"])\n",
        "    print(quote[\"updatedOn\"])"
      ],
      "metadata": {
        "colab": {
          "base_uri": "https://localhost:8080/"
        },
        "id": "PxHRSTrM6AHp",
        "outputId": "35bf9a24-475e-42b4-d5fb-ecbdd003faba"
      },
      "execution_count": null,
      "outputs": [
        {
          "output_type": "stream",
          "name": "stdout",
          "text": [
            "IDBI BANK LTD.\n",
            "48.90\n",
            "16 Feb 23 | 04:00 PM\n",
            "AVANTI FEEDS LTD.-$\n",
            "386.30\n",
            "16 Feb 23 | 04:00 PM\n"
          ]
        }
      ]
    },
    {
      "cell_type": "code",
      "source": [
        "tg = b.topGainers()\n",
        "print(tg)"
      ],
      "metadata": {
        "colab": {
          "base_uri": "https://localhost:8080/"
        },
        "id": "HZZKMHky6UIa",
        "outputId": "a9f0bdde-6632-45b8-b080-62630d246081"
      },
      "execution_count": null,
      "outputs": [
        {
          "output_type": "stream",
          "name": "stdout",
          "text": [
            "[{'securityID': 'BDL', 'scripCode': '541143', 'LTP': '900.80', 'change': '100.95', 'pChange': '12.62'}, {'securityID': 'SPICEJET', 'scripCode': '500285', 'LTP': '35.95', 'change': '3.75', 'pChange': '11.65'}, {'securityID': 'AGI', 'scripCode': '500187', 'LTP': '364.10', 'change': '31.55', 'pChange': '9.49'}, {'securityID': 'SHILPAMED', 'scripCode': '530549', 'LTP': '259.05', 'change': '21.10', 'pChange': '8.87'}, {'securityID': 'TANLA', 'scripCode': '532790', 'LTP': '655.05', 'change': '51.00', 'pChange': '8.44'}]\n"
          ]
        }
      ]
    },
    {
      "cell_type": "code",
      "source": [
        "tg = b.topLosers()\n",
        "print(tg)"
      ],
      "metadata": {
        "colab": {
          "base_uri": "https://localhost:8080/"
        },
        "id": "_Vl-OmqK6lHc",
        "outputId": "78808870-156a-4631-9720-f19147f30822"
      },
      "execution_count": null,
      "outputs": [
        {
          "output_type": "stream",
          "name": "stdout",
          "text": [
            "[{'securityID': 'EKI', 'scripCode': '543284', 'LTP': '568.80', 'change': '-63.20', 'pChange': '-10.00'}, {'securityID': 'ATGL', 'scripCode': '542066', 'LTP': '1,024.95', 'change': '-53.90', 'pChange': '-5.00'}, {'securityID': 'ADANITRANS', 'scripCode': '539254', 'LTP': '966.95', 'change': '-50.10', 'pChange': '-4.93'}, {'securityID': 'INDIGO', 'scripCode': '539448', 'LTP': '1,897.55', 'change': '-88.65', 'pChange': '-4.46'}, {'securityID': 'SINDHUTRAD', 'scripCode': '532029', 'LTP': '19.30', 'change': '-0.85', 'pChange': '-4.22'}]\n"
          ]
        }
      ]
    },
    {
      "cell_type": "code",
      "source": [
        "from google.colab import files\n",
        "uploaded = files.upload()"
      ],
      "metadata": {
        "colab": {
          "base_uri": "https://localhost:8080/",
          "height": 73
        },
        "id": "GQS0eHWC9FG5",
        "outputId": "fdd40ba4-713c-434b-8e7e-cdae5c479a3e"
      },
      "execution_count": null,
      "outputs": [
        {
          "output_type": "display_data",
          "data": {
            "text/plain": [
              "<IPython.core.display.HTML object>"
            ],
            "text/html": [
              "\n",
              "     <input type=\"file\" id=\"files-6e4c3418-aec0-4c6a-b6c5-5b308a77955a\" name=\"files[]\" multiple disabled\n",
              "        style=\"border:none\" />\n",
              "     <output id=\"result-6e4c3418-aec0-4c6a-b6c5-5b308a77955a\">\n",
              "      Upload widget is only available when the cell has been executed in the\n",
              "      current browser session. Please rerun this cell to enable.\n",
              "      </output>\n",
              "      <script>// Copyright 2017 Google LLC\n",
              "//\n",
              "// Licensed under the Apache License, Version 2.0 (the \"License\");\n",
              "// you may not use this file except in compliance with the License.\n",
              "// You may obtain a copy of the License at\n",
              "//\n",
              "//      http://www.apache.org/licenses/LICENSE-2.0\n",
              "//\n",
              "// Unless required by applicable law or agreed to in writing, software\n",
              "// distributed under the License is distributed on an \"AS IS\" BASIS,\n",
              "// WITHOUT WARRANTIES OR CONDITIONS OF ANY KIND, either express or implied.\n",
              "// See the License for the specific language governing permissions and\n",
              "// limitations under the License.\n",
              "\n",
              "/**\n",
              " * @fileoverview Helpers for google.colab Python module.\n",
              " */\n",
              "(function(scope) {\n",
              "function span(text, styleAttributes = {}) {\n",
              "  const element = document.createElement('span');\n",
              "  element.textContent = text;\n",
              "  for (const key of Object.keys(styleAttributes)) {\n",
              "    element.style[key] = styleAttributes[key];\n",
              "  }\n",
              "  return element;\n",
              "}\n",
              "\n",
              "// Max number of bytes which will be uploaded at a time.\n",
              "const MAX_PAYLOAD_SIZE = 100 * 1024;\n",
              "\n",
              "function _uploadFiles(inputId, outputId) {\n",
              "  const steps = uploadFilesStep(inputId, outputId);\n",
              "  const outputElement = document.getElementById(outputId);\n",
              "  // Cache steps on the outputElement to make it available for the next call\n",
              "  // to uploadFilesContinue from Python.\n",
              "  outputElement.steps = steps;\n",
              "\n",
              "  return _uploadFilesContinue(outputId);\n",
              "}\n",
              "\n",
              "// This is roughly an async generator (not supported in the browser yet),\n",
              "// where there are multiple asynchronous steps and the Python side is going\n",
              "// to poll for completion of each step.\n",
              "// This uses a Promise to block the python side on completion of each step,\n",
              "// then passes the result of the previous step as the input to the next step.\n",
              "function _uploadFilesContinue(outputId) {\n",
              "  const outputElement = document.getElementById(outputId);\n",
              "  const steps = outputElement.steps;\n",
              "\n",
              "  const next = steps.next(outputElement.lastPromiseValue);\n",
              "  return Promise.resolve(next.value.promise).then((value) => {\n",
              "    // Cache the last promise value to make it available to the next\n",
              "    // step of the generator.\n",
              "    outputElement.lastPromiseValue = value;\n",
              "    return next.value.response;\n",
              "  });\n",
              "}\n",
              "\n",
              "/**\n",
              " * Generator function which is called between each async step of the upload\n",
              " * process.\n",
              " * @param {string} inputId Element ID of the input file picker element.\n",
              " * @param {string} outputId Element ID of the output display.\n",
              " * @return {!Iterable<!Object>} Iterable of next steps.\n",
              " */\n",
              "function* uploadFilesStep(inputId, outputId) {\n",
              "  const inputElement = document.getElementById(inputId);\n",
              "  inputElement.disabled = false;\n",
              "\n",
              "  const outputElement = document.getElementById(outputId);\n",
              "  outputElement.innerHTML = '';\n",
              "\n",
              "  const pickedPromise = new Promise((resolve) => {\n",
              "    inputElement.addEventListener('change', (e) => {\n",
              "      resolve(e.target.files);\n",
              "    });\n",
              "  });\n",
              "\n",
              "  const cancel = document.createElement('button');\n",
              "  inputElement.parentElement.appendChild(cancel);\n",
              "  cancel.textContent = 'Cancel upload';\n",
              "  const cancelPromise = new Promise((resolve) => {\n",
              "    cancel.onclick = () => {\n",
              "      resolve(null);\n",
              "    };\n",
              "  });\n",
              "\n",
              "  // Wait for the user to pick the files.\n",
              "  const files = yield {\n",
              "    promise: Promise.race([pickedPromise, cancelPromise]),\n",
              "    response: {\n",
              "      action: 'starting',\n",
              "    }\n",
              "  };\n",
              "\n",
              "  cancel.remove();\n",
              "\n",
              "  // Disable the input element since further picks are not allowed.\n",
              "  inputElement.disabled = true;\n",
              "\n",
              "  if (!files) {\n",
              "    return {\n",
              "      response: {\n",
              "        action: 'complete',\n",
              "      }\n",
              "    };\n",
              "  }\n",
              "\n",
              "  for (const file of files) {\n",
              "    const li = document.createElement('li');\n",
              "    li.append(span(file.name, {fontWeight: 'bold'}));\n",
              "    li.append(span(\n",
              "        `(${file.type || 'n/a'}) - ${file.size} bytes, ` +\n",
              "        `last modified: ${\n",
              "            file.lastModifiedDate ? file.lastModifiedDate.toLocaleDateString() :\n",
              "                                    'n/a'} - `));\n",
              "    const percent = span('0% done');\n",
              "    li.appendChild(percent);\n",
              "\n",
              "    outputElement.appendChild(li);\n",
              "\n",
              "    const fileDataPromise = new Promise((resolve) => {\n",
              "      const reader = new FileReader();\n",
              "      reader.onload = (e) => {\n",
              "        resolve(e.target.result);\n",
              "      };\n",
              "      reader.readAsArrayBuffer(file);\n",
              "    });\n",
              "    // Wait for the data to be ready.\n",
              "    let fileData = yield {\n",
              "      promise: fileDataPromise,\n",
              "      response: {\n",
              "        action: 'continue',\n",
              "      }\n",
              "    };\n",
              "\n",
              "    // Use a chunked sending to avoid message size limits. See b/62115660.\n",
              "    let position = 0;\n",
              "    do {\n",
              "      const length = Math.min(fileData.byteLength - position, MAX_PAYLOAD_SIZE);\n",
              "      const chunk = new Uint8Array(fileData, position, length);\n",
              "      position += length;\n",
              "\n",
              "      const base64 = btoa(String.fromCharCode.apply(null, chunk));\n",
              "      yield {\n",
              "        response: {\n",
              "          action: 'append',\n",
              "          file: file.name,\n",
              "          data: base64,\n",
              "        },\n",
              "      };\n",
              "\n",
              "      let percentDone = fileData.byteLength === 0 ?\n",
              "          100 :\n",
              "          Math.round((position / fileData.byteLength) * 100);\n",
              "      percent.textContent = `${percentDone}% done`;\n",
              "\n",
              "    } while (position < fileData.byteLength);\n",
              "  }\n",
              "\n",
              "  // All done.\n",
              "  yield {\n",
              "    response: {\n",
              "      action: 'complete',\n",
              "    }\n",
              "  };\n",
              "}\n",
              "\n",
              "scope.google = scope.google || {};\n",
              "scope.google.colab = scope.google.colab || {};\n",
              "scope.google.colab._files = {\n",
              "  _uploadFiles,\n",
              "  _uploadFilesContinue,\n",
              "};\n",
              "})(self);\n",
              "</script> "
            ]
          },
          "metadata": {}
        },
        {
          "output_type": "stream",
          "name": "stdout",
          "text": [
            "Saving Equity 2.csv to Equity 2.csv\n"
          ]
        }
      ]
    },
    {
      "cell_type": "code",
      "source": [
        "import io\n",
        "import pandas as pd\n",
        "data = io.BytesIO(uploaded['Equity 2.csv'])"
      ],
      "metadata": {
        "id": "aDjRxeoM9cZH"
      },
      "execution_count": null,
      "outputs": []
    },
    {
      "cell_type": "code",
      "source": [
        "codes_df "
      ],
      "metadata": {
        "colab": {
          "base_uri": "https://localhost:8080/",
          "height": 424
        },
        "id": "Hg-GWt6a-aTm",
        "outputId": "1b920a12-0c3e-4ccc-984a-1bf78675a0b0"
      },
      "execution_count": null,
      "outputs": [
        {
          "output_type": "execute_result",
          "data": {
            "text/plain": [
              "      Security Code                          Issuer Name Security Id  \\\n",
              "0            500002                    ABB India Limited         ABB   \n",
              "1            500003                 Aegis Logistics Ltd.    AEGISLOG   \n",
              "2            500008             Amara Raja Batteries Ltd  AMARAJABAT   \n",
              "3            500009    Ambalal Sarabhai Enterprise Ltd.,   AMBALALSA   \n",
              "4            500010  Housing Development Finance Corp.Lt        HDFC   \n",
              "...             ...                                  ...         ...   \n",
              "4107         750765         Edvenswa Enterprises Limited    EDVEN-RE   \n",
              "4108         750766       Shukra Pharmaceuticals Limited   SHUKRA-RE   \n",
              "4109         780014                Has Lifestyle Limited    HASJUICE   \n",
              "4110         780016        Web Element Solutions Limited       WEBSL   \n",
              "4111         780018         Adhiraj Distributors Limited     ADHIRAJ   \n",
              "\n",
              "           ISIN No             Sector Name  \n",
              "0     INE117A01022             Industrials  \n",
              "1     INE208C01025                  Energy  \n",
              "2     INE885A01032  Consumer Discretionary  \n",
              "3     INE432A01017              Healthcare  \n",
              "4     INE001A01036      Financial Services  \n",
              "...            ...                     ...  \n",
              "4107  INE125G20014                       -  \n",
              "4108  INE551C20028                       -  \n",
              "4109  INE888Q01016                       -  \n",
              "4110  INE562Q01017                       -  \n",
              "4111  INE067R01015                       -  \n",
              "\n",
              "[4112 rows x 5 columns]"
            ],
            "text/html": [
              "\n",
              "  <div id=\"df-ad11a6f8-b848-408b-b69f-e10dfd812855\">\n",
              "    <div class=\"colab-df-container\">\n",
              "      <div>\n",
              "<style scoped>\n",
              "    .dataframe tbody tr th:only-of-type {\n",
              "        vertical-align: middle;\n",
              "    }\n",
              "\n",
              "    .dataframe tbody tr th {\n",
              "        vertical-align: top;\n",
              "    }\n",
              "\n",
              "    .dataframe thead th {\n",
              "        text-align: right;\n",
              "    }\n",
              "</style>\n",
              "<table border=\"1\" class=\"dataframe\">\n",
              "  <thead>\n",
              "    <tr style=\"text-align: right;\">\n",
              "      <th></th>\n",
              "      <th>Security Code</th>\n",
              "      <th>Issuer Name</th>\n",
              "      <th>Security Id</th>\n",
              "      <th>ISIN No</th>\n",
              "      <th>Sector Name</th>\n",
              "    </tr>\n",
              "  </thead>\n",
              "  <tbody>\n",
              "    <tr>\n",
              "      <th>0</th>\n",
              "      <td>500002</td>\n",
              "      <td>ABB India Limited</td>\n",
              "      <td>ABB</td>\n",
              "      <td>INE117A01022</td>\n",
              "      <td>Industrials</td>\n",
              "    </tr>\n",
              "    <tr>\n",
              "      <th>1</th>\n",
              "      <td>500003</td>\n",
              "      <td>Aegis Logistics Ltd.</td>\n",
              "      <td>AEGISLOG</td>\n",
              "      <td>INE208C01025</td>\n",
              "      <td>Energy</td>\n",
              "    </tr>\n",
              "    <tr>\n",
              "      <th>2</th>\n",
              "      <td>500008</td>\n",
              "      <td>Amara Raja Batteries Ltd</td>\n",
              "      <td>AMARAJABAT</td>\n",
              "      <td>INE885A01032</td>\n",
              "      <td>Consumer Discretionary</td>\n",
              "    </tr>\n",
              "    <tr>\n",
              "      <th>3</th>\n",
              "      <td>500009</td>\n",
              "      <td>Ambalal Sarabhai Enterprise Ltd.,</td>\n",
              "      <td>AMBALALSA</td>\n",
              "      <td>INE432A01017</td>\n",
              "      <td>Healthcare</td>\n",
              "    </tr>\n",
              "    <tr>\n",
              "      <th>4</th>\n",
              "      <td>500010</td>\n",
              "      <td>Housing Development Finance Corp.Lt</td>\n",
              "      <td>HDFC</td>\n",
              "      <td>INE001A01036</td>\n",
              "      <td>Financial Services</td>\n",
              "    </tr>\n",
              "    <tr>\n",
              "      <th>...</th>\n",
              "      <td>...</td>\n",
              "      <td>...</td>\n",
              "      <td>...</td>\n",
              "      <td>...</td>\n",
              "      <td>...</td>\n",
              "    </tr>\n",
              "    <tr>\n",
              "      <th>4107</th>\n",
              "      <td>750765</td>\n",
              "      <td>Edvenswa Enterprises Limited</td>\n",
              "      <td>EDVEN-RE</td>\n",
              "      <td>INE125G20014</td>\n",
              "      <td>-</td>\n",
              "    </tr>\n",
              "    <tr>\n",
              "      <th>4108</th>\n",
              "      <td>750766</td>\n",
              "      <td>Shukra Pharmaceuticals Limited</td>\n",
              "      <td>SHUKRA-RE</td>\n",
              "      <td>INE551C20028</td>\n",
              "      <td>-</td>\n",
              "    </tr>\n",
              "    <tr>\n",
              "      <th>4109</th>\n",
              "      <td>780014</td>\n",
              "      <td>Has Lifestyle Limited</td>\n",
              "      <td>HASJUICE</td>\n",
              "      <td>INE888Q01016</td>\n",
              "      <td>-</td>\n",
              "    </tr>\n",
              "    <tr>\n",
              "      <th>4110</th>\n",
              "      <td>780016</td>\n",
              "      <td>Web Element Solutions Limited</td>\n",
              "      <td>WEBSL</td>\n",
              "      <td>INE562Q01017</td>\n",
              "      <td>-</td>\n",
              "    </tr>\n",
              "    <tr>\n",
              "      <th>4111</th>\n",
              "      <td>780018</td>\n",
              "      <td>Adhiraj Distributors Limited</td>\n",
              "      <td>ADHIRAJ</td>\n",
              "      <td>INE067R01015</td>\n",
              "      <td>-</td>\n",
              "    </tr>\n",
              "  </tbody>\n",
              "</table>\n",
              "<p>4112 rows × 5 columns</p>\n",
              "</div>\n",
              "      <button class=\"colab-df-convert\" onclick=\"convertToInteractive('df-ad11a6f8-b848-408b-b69f-e10dfd812855')\"\n",
              "              title=\"Convert this dataframe to an interactive table.\"\n",
              "              style=\"display:none;\">\n",
              "        \n",
              "  <svg xmlns=\"http://www.w3.org/2000/svg\" height=\"24px\"viewBox=\"0 0 24 24\"\n",
              "       width=\"24px\">\n",
              "    <path d=\"M0 0h24v24H0V0z\" fill=\"none\"/>\n",
              "    <path d=\"M18.56 5.44l.94 2.06.94-2.06 2.06-.94-2.06-.94-.94-2.06-.94 2.06-2.06.94zm-11 1L8.5 8.5l.94-2.06 2.06-.94-2.06-.94L8.5 2.5l-.94 2.06-2.06.94zm10 10l.94 2.06.94-2.06 2.06-.94-2.06-.94-.94-2.06-.94 2.06-2.06.94z\"/><path d=\"M17.41 7.96l-1.37-1.37c-.4-.4-.92-.59-1.43-.59-.52 0-1.04.2-1.43.59L10.3 9.45l-7.72 7.72c-.78.78-.78 2.05 0 2.83L4 21.41c.39.39.9.59 1.41.59.51 0 1.02-.2 1.41-.59l7.78-7.78 2.81-2.81c.8-.78.8-2.07 0-2.86zM5.41 20L4 18.59l7.72-7.72 1.47 1.35L5.41 20z\"/>\n",
              "  </svg>\n",
              "      </button>\n",
              "      \n",
              "  <style>\n",
              "    .colab-df-container {\n",
              "      display:flex;\n",
              "      flex-wrap:wrap;\n",
              "      gap: 12px;\n",
              "    }\n",
              "\n",
              "    .colab-df-convert {\n",
              "      background-color: #E8F0FE;\n",
              "      border: none;\n",
              "      border-radius: 50%;\n",
              "      cursor: pointer;\n",
              "      display: none;\n",
              "      fill: #1967D2;\n",
              "      height: 32px;\n",
              "      padding: 0 0 0 0;\n",
              "      width: 32px;\n",
              "    }\n",
              "\n",
              "    .colab-df-convert:hover {\n",
              "      background-color: #E2EBFA;\n",
              "      box-shadow: 0px 1px 2px rgba(60, 64, 67, 0.3), 0px 1px 3px 1px rgba(60, 64, 67, 0.15);\n",
              "      fill: #174EA6;\n",
              "    }\n",
              "\n",
              "    [theme=dark] .colab-df-convert {\n",
              "      background-color: #3B4455;\n",
              "      fill: #D2E3FC;\n",
              "    }\n",
              "\n",
              "    [theme=dark] .colab-df-convert:hover {\n",
              "      background-color: #434B5C;\n",
              "      box-shadow: 0px 1px 3px 1px rgba(0, 0, 0, 0.15);\n",
              "      filter: drop-shadow(0px 1px 2px rgba(0, 0, 0, 0.3));\n",
              "      fill: #FFFFFF;\n",
              "    }\n",
              "  </style>\n",
              "\n",
              "      <script>\n",
              "        const buttonEl =\n",
              "          document.querySelector('#df-ad11a6f8-b848-408b-b69f-e10dfd812855 button.colab-df-convert');\n",
              "        buttonEl.style.display =\n",
              "          google.colab.kernel.accessAllowed ? 'block' : 'none';\n",
              "\n",
              "        async function convertToInteractive(key) {\n",
              "          const element = document.querySelector('#df-ad11a6f8-b848-408b-b69f-e10dfd812855');\n",
              "          const dataTable =\n",
              "            await google.colab.kernel.invokeFunction('convertToInteractive',\n",
              "                                                     [key], {});\n",
              "          if (!dataTable) return;\n",
              "\n",
              "          const docLinkHtml = 'Like what you see? Visit the ' +\n",
              "            '<a target=\"_blank\" href=https://colab.research.google.com/notebooks/data_table.ipynb>data table notebook</a>'\n",
              "            + ' to learn more about interactive tables.';\n",
              "          element.innerHTML = '';\n",
              "          dataTable['output_type'] = 'display_data';\n",
              "          await google.colab.output.renderOutput(dataTable, element);\n",
              "          const docLink = document.createElement('div');\n",
              "          docLink.innerHTML = docLinkHtml;\n",
              "          element.appendChild(docLink);\n",
              "        }\n",
              "      </script>\n",
              "    </div>\n",
              "  </div>\n",
              "  "
            ]
          },
          "metadata": {},
          "execution_count": 16
        }
      ]
    },
    {
      "cell_type": "code",
      "source": [
        "tickers = ['INFY','TCS','HDFC','ABB','BIRLACABLE']\n",
        "codes = []\n",
        "\n",
        "for ticker in tickers:\n",
        "   codes.append(str(list(codes_df[codes_df['Security Id'] == ticker]['Security Code'])[0]))\n",
        "codes"
      ],
      "metadata": {
        "colab": {
          "base_uri": "https://localhost:8080/"
        },
        "id": "Dz9Tt9KKCE1p",
        "outputId": "19a5549b-f8a8-4851-8bda-0848d34525d3"
      },
      "execution_count": null,
      "outputs": [
        {
          "output_type": "execute_result",
          "data": {
            "text/plain": [
              "['500209', '532540', '500010', '500002', '500060']"
            ]
          },
          "metadata": {},
          "execution_count": 24
        }
      ]
    },
    {
      "cell_type": "code",
      "source": [
        "codelist = [\"500116\", \"512573\"]\n",
        "\n",
        "for code in codes:\n",
        "    quote = b.getQuote(code)\n",
        "    print(quote[\"companyName\"])\n",
        "    print(quote[\"currentValue\"])\n",
        "    print(quote[\"updatedOn\"])"
      ],
      "metadata": {
        "colab": {
          "base_uri": "https://localhost:8080/"
        },
        "id": "ghQahyPtDKw9",
        "outputId": "e622b7ac-d7ef-4062-ec21-947ff5ad9a4f"
      },
      "execution_count": null,
      "outputs": [
        {
          "output_type": "stream",
          "name": "stdout",
          "text": [
            "INFOSYS LTD.\n",
            "1601.95\n",
            "16 Feb 23 | 04:00 PM\n",
            "TATA CONSULTANCY SERVICES LTD.\n",
            "3553.95\n",
            "16 Feb 23 | 04:00 PM\n",
            "HOUSING DEVELOPMENT FINANCE CORP.LTD.\n",
            "2701.20\n",
            "16 Feb 23 | 04:00 PM\n",
            "ABB India Limited\n",
            "3188.90\n",
            "16 Feb 23 | 04:00 PM\n",
            "Birla Cable Ltd\n",
            "136.40\n",
            "16 Feb 23 | 04:00 PM\n"
          ]
        }
      ]
    },
    {
      "cell_type": "code",
      "source": [
        "top_gainer_df = pd.DataFrame(b.topGainers())\n",
        "top_gainer_df['scripCode'] = top_gainer_df['scripCode'].astype(int) \n",
        "top_gainer_df=top_gainer_df.set_index('scripCode')\n",
        "gainers = pd.concat([top_gainer_df,codes_df.loc[list(top_gainer_df.index)]], axis=1, join='inner')\n",
        "\n",
        "top_loser_df = pd.DataFrame(b.topLosers())\n",
        "top_loser_df['scripCode'] = top_loser_df['scripCode'].astype(int) \n",
        "top_loser_df=top_loser_df.set_index('scripCode')\n",
        "losers = pd.concat([top_loser_df,codes_df.loc[list(top_loser_df.index)]], axis=1, join='inner')"
      ],
      "metadata": {
        "id": "5vcJFYqvGzPp"
      },
      "execution_count": null,
      "outputs": []
    }
  ]
}